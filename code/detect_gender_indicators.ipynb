{
 "cells": [
  {
   "cell_type": "code",
   "execution_count": 1,
   "id": "90fd5ed9",
   "metadata": {},
   "outputs": [
    {
     "name": "stderr",
     "output_type": "stream",
     "text": [
      "2023-09-14 22:57:55.862723: I tensorflow/core/platform/cpu_feature_guard.cc:193] This TensorFlow binary is optimized with oneAPI Deep Neural Network Library (oneDNN) to use the following CPU instructions in performance-critical operations:  AVX2 AVX512F AVX512_VNNI FMA\n",
      "To enable them in other operations, rebuild TensorFlow with the appropriate compiler flags.\n",
      "2023-09-14 22:57:56.031406: I tensorflow/core/util/port.cc:104] oneDNN custom operations are on. You may see slightly different numerical results due to floating-point round-off errors from different computation orders. To turn them off, set the environment variable `TF_ENABLE_ONEDNN_OPTS=0`.\n",
      "2023-09-14 22:57:57.346116: W tensorflow/compiler/xla/stream_executor/platform/default/dso_loader.cc:64] Could not load dynamic library 'libnvinfer.so.7'; dlerror: libnvinfer.so.7: cannot open shared object file: No such file or directory; LD_LIBRARY_PATH: /usr/lib64/nvidia:/usr/local/cuda-11.2/lib64:/usr/lib/nvidia:/usr/local/cuda-11.2/lib:/pkg/slurm/21.08.5/lib\n",
      "2023-09-14 22:57:57.346222: W tensorflow/compiler/xla/stream_executor/platform/default/dso_loader.cc:64] Could not load dynamic library 'libnvinfer_plugin.so.7'; dlerror: libnvinfer_plugin.so.7: cannot open shared object file: No such file or directory; LD_LIBRARY_PATH: /usr/lib64/nvidia:/usr/local/cuda-11.2/lib64:/usr/lib/nvidia:/usr/local/cuda-11.2/lib:/pkg/slurm/21.08.5/lib\n",
      "2023-09-14 22:57:57.346232: W tensorflow/compiler/tf2tensorrt/utils/py_utils.cc:38] TF-TRT Warning: Cannot dlopen some TensorRT libraries. If you would like to use Nvidia GPU with TensorRT, please make sure the missing libraries mentioned above are installed properly.\n"
     ]
    }
   ],
   "source": [
    "from detect_gender_helpers import *"
   ]
  },
  {
   "cell_type": "code",
   "execution_count": 2,
   "id": "9e982975",
   "metadata": {},
   "outputs": [
    {
     "name": "stdout",
     "output_type": "stream",
     "text": [
      "Future engineer girl Royalty Free Stock Photos\n",
      "label: female\n",
      "**************\n",
      "PHOTO: In this picture taken March 8, 2012, Mexican-American singer and reality TV star Jenni Rivera poses during an interview in Los Angeles.\n",
      "label: female\n",
      "**************\n",
      "Homecare assistant helps cooking for an elderly woman Stock Photo\n",
      "label: female\n",
      "**************\n",
      "Diana Edulji, Farokh Engineer trade verbal volleys in public\n",
      "label: female\n",
      "**************\n",
      "Albina Gilmanova, Licenced Real Estate Salesperson at Bond New York Properties LLC | WiseIntro Portfolio\n",
      "label: female\n",
      "**************\n",
      "Top Rated Insurance Coverage Attorney in Seattle, WA : Kristine Grelish\n",
      "label: female\n",
      "**************\n"
     ]
    }
   ],
   "source": [
    "female_examples = [\"Future engineer girl Royalty Free Stock Photos\",\n",
    "                   \"PHOTO: In this picture taken March 8, 2012, Mexican-American singer and reality TV star Jenni Rivera poses during an interview in Los Angeles.\",\n",
    "                   \"Homecare assistant helps cooking for an elderly woman Stock Photo\",\n",
    "                   \"Diana Edulji, Farokh Engineer trade verbal volleys in public\",\n",
    "                   \"Albina Gilmanova, Licenced Real Estate Salesperson at Bond New York Properties LLC | WiseIntro Portfolio\",\n",
    "                   \"Top Rated Insurance Coverage Attorney in Seattle, WA : Kristine Grelish\"]\n",
    "\n",
    "for x in female_examples:\n",
    "    # 1) identify people and obtain gender(s) associated with names\n",
    "    people = detect_people(x)[1]\n",
    "    # 2) identify whether there are male/female gender words \n",
    "    gender_words = detect_gender_words(x)\n",
    "    # combine gender information from 1) and 2) to get gender label \n",
    "    final, label = combine_labels(people, gender_words)\n",
    "    print(x)\n",
    "    print('label:', label)\n",
    "    print('**************')"
   ]
  },
  {
   "cell_type": "code",
   "execution_count": 6,
   "id": "78fedfa8",
   "metadata": {},
   "outputs": [
    {
     "name": "stdout",
     "output_type": "stream",
     "text": [
      "bias_amp\t\tdetect_gender_helpers.py\tgen.ipynb  __pycache__\r\n",
      "compute_nn_texts.ipynb\tdetect_gender_indicators.ipynb\tgen.py\r\n"
     ]
    }
   ],
   "source": [
    "!ls"
   ]
  },
  {
   "cell_type": "code",
   "execution_count": 8,
   "id": "09b74014",
   "metadata": {},
   "outputs": [
    {
     "name": "stdout",
     "output_type": "stream",
     "text": [
      "bias_amp\t\t  detect_gender_indicators.ipynb  __pycache__\r\n",
      "compute_nn_texts.ipynb\t  generate_images.py\r\n",
      "detect_gender_helpers.py  gen.ipynb\r\n"
     ]
    }
   ],
   "source": []
  },
  {
   "cell_type": "code",
   "execution_count": 3,
   "id": "f68a9634",
   "metadata": {},
   "outputs": [
    {
     "name": "stdout",
     "output_type": "stream",
     "text": [
      "Researcher Dr Warish Ahmed in the CSIRO laboratory\n",
      "label: male\n",
      "**************\n",
      "Young male chef in red apron against grey background - stock photo\n",
      "label: male\n",
      "**************\n",
      "Hell's Kitchen: Seasons 1 to 4  Volatile superstar Chef Gordon Ramsay cranks up the ovens in the tantalizing prime-time hit\n",
      "label: male\n",
      "**************\n",
      "French former journalist and newly appointed French President's communication adviser, Claude Serillon is pictured on January 12, 2013 at the Elysee presidential palace in Paris.\n",
      "label: male\n",
      "**************\n",
      "A supporter wears a campaign badge as British Labour Party politician Jeremy Corbyn arrives for a community meeting in north London August 9, 2015.\n",
      "label: male\n",
      "**************\n",
      "French writer journalist and artist Gonzague Saint Bris poses during a photo session on June 2 2017 in Paris / AFP PHOTO / joel SAGET\n",
      "label: male\n",
      "**************\n"
     ]
    }
   ],
   "source": [
    "male_examples = [\"Researcher Dr Warish Ahmed in the CSIRO laboratory\",\n",
    "                 \"Young male chef in red apron against grey background - stock photo\",\n",
    "                 \"Hell's Kitchen: Seasons 1 to 4  Volatile superstar Chef Gordon Ramsay cranks up the ovens in the tantalizing prime-time hit\",\n",
    "                 \"French former journalist and newly appointed French President's communication adviser, Claude Serillon is pictured on January 12, 2013 at the Elysee presidential palace in Paris.\",\n",
    "                 \"A supporter wears a campaign badge as British Labour Party politician Jeremy Corbyn arrives for a community meeting in north London August 9, 2015.\",\n",
    "                 \"French writer journalist and artist Gonzague Saint Bris poses during a photo session on June 2 2017 in Paris / AFP PHOTO / joel SAGET\"]\n",
    "\n",
    "for x in male_examples:\n",
    "    people = detect_people(x)[1]\n",
    "    gender_words = detect_gender_words(x)\n",
    "    final, label = combine_labels(people, gender_words)\n",
    "    print(x)\n",
    "    print('label:', label)\n",
    "    print('**************')"
   ]
  },
  {
   "cell_type": "code",
   "execution_count": 4,
   "id": "58b7f864",
   "metadata": {},
   "outputs": [
    {
     "name": "stdout",
     "output_type": "stream",
     "text": [
      "Senior R&D Manager of Huawei at Next Generation Optical Networking 2015 in Nice HD\n",
      "label: unknown\n",
      "**************\n",
      "Business credit scores: 6 things every entrepreneur should know\n",
      "label: unknown\n",
      "**************\n",
      "The first jazz musician on the cover of Time Magazine\n",
      "label: unknown\n",
      "**************\n",
      "Slovenia's most famous poet was unlucky in love.\n",
      "label: unknown\n",
      "**************\n",
      "Portrait of smiling pharmacist at cabinet in pharmacy - WESTF23907\n",
      "label: unknown\n",
      "**************\n",
      "cheerful medical intern holding x-ray in clinic\n",
      "label: unknown\n",
      "**************\n"
     ]
    }
   ],
   "source": [
    "unknown_examples = [\"Senior R&D Manager of Huawei at Next Generation Optical Networking 2015 in Nice HD\",\n",
    "                    \"Business credit scores: 6 things every entrepreneur should know\",\n",
    "                    \"The first jazz musician on the cover of Time Magazine\",\n",
    "                    \"Slovenia's most famous poet was unlucky in love.\",\n",
    "                    \"Portrait of smiling pharmacist at cabinet in pharmacy - WESTF23907\",\n",
    "                    \"cheerful medical intern holding x-ray in clinic\"]\n",
    "\n",
    "for x in unknown_examples:\n",
    "    people = detect_people(x)[1]\n",
    "    gender_words = detect_gender_words(x)\n",
    "    final, label = combine_labels(people, gender_words)\n",
    "    print(x)\n",
    "    print('label:', label)\n",
    "    print('**************')"
   ]
  },
  {
   "cell_type": "code",
   "execution_count": 5,
   "id": "3ed7bee2",
   "metadata": {},
   "outputs": [
    {
     "name": "stdout",
     "output_type": "stream",
     "text": [
      "Councillor Jan Mason, mayor of Epsom and Ewell, and UCA vice-chancellor, Professor Elaine Thomas\n",
      "label: both\n",
      "**************\n",
      "Veterinarian Barbara Mix of Horseheads receives the Cornell New York State Hometown Alumni Award from Joel Malina, vice president for university relations.\n",
      "label: both\n",
      "**************\n",
      "British author J.K. Rowling's world of wizardry is coming back to the big screen – but without Harry Potter. Studio Warner Bros. announced Thursday that Rowling will write the screenplay for a movie based on Fantastic Beasts and Where to Find Them, her textbook to the magical universe she created in the Potter stories.\n",
      "label: both\n",
      "**************\n"
     ]
    }
   ],
   "source": [
    "both_examples = [\"Councillor Jan Mason, mayor of Epsom and Ewell, and UCA vice-chancellor, Professor Elaine Thomas\",\n",
    "                 \"Veterinarian Barbara Mix of Horseheads receives the Cornell New York State Hometown Alumni Award from Joel Malina, vice president for university relations.\",\n",
    "                 \"British author J.K. Rowling's world of wizardry is coming back to the big screen – but without Harry Potter. Studio Warner Bros. announced Thursday that Rowling will write the screenplay for a movie based on \"\"Fantastic Beasts and Where to Find Them,\"\" her textbook to the magical universe she created in the Potter stories.\"]\n",
    "\n",
    "for x in both_examples:\n",
    "    people = detect_people(x)[1]\n",
    "    gender_words = detect_gender_words(x)\n",
    "    final, label = combine_labels(people, gender_words)\n",
    "    print(x)\n",
    "    print('label:', label)\n",
    "    print('**************')"
   ]
  },
  {
   "cell_type": "code",
   "execution_count": null,
   "id": "0344fe02",
   "metadata": {},
   "outputs": [],
   "source": []
  }
 ],
 "metadata": {
  "kernelspec": {
   "display_name": "Python 3 (ipykernel)",
   "language": "python",
   "name": "python3"
  },
  "language_info": {
   "codemirror_mode": {
    "name": "ipython",
    "version": 3
   },
   "file_extension": ".py",
   "mimetype": "text/x-python",
   "name": "python",
   "nbconvert_exporter": "python",
   "pygments_lexer": "ipython3",
   "version": "3.7.13"
  }
 },
 "nbformat": 4,
 "nbformat_minor": 5
}
