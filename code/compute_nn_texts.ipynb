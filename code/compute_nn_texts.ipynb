{
 "cells": [
  {
   "cell_type": "code",
   "execution_count": 1,
   "id": "46e7b6cf",
   "metadata": {},
   "outputs": [
    {
     "name": "stderr",
     "output_type": "stream",
     "text": [
      "2023-09-14 16:01:29.370842: I tensorflow/core/platform/cpu_feature_guard.cc:193] This TensorFlow binary is optimized with oneAPI Deep Neural Network Library (oneDNN) to use the following CPU instructions in performance-critical operations:  AVX2 AVX512F AVX512_VNNI FMA\n",
      "To enable them in other operations, rebuild TensorFlow with the appropriate compiler flags.\n",
      "2023-09-14 16:01:30.064193: I tensorflow/core/util/port.cc:104] oneDNN custom operations are on. You may see slightly different numerical results due to floating-point round-off errors from different computation orders. To turn them off, set the environment variable `TF_ENABLE_ONEDNN_OPTS=0`.\n",
      "2023-09-14 16:01:34.102957: W tensorflow/compiler/xla/stream_executor/platform/default/dso_loader.cc:64] Could not load dynamic library 'libnvinfer.so.7'; dlerror: libnvinfer.so.7: cannot open shared object file: No such file or directory; LD_LIBRARY_PATH: /usr/lib64/nvidia:/usr/local/cuda-11.2/lib64:/usr/lib/nvidia:/usr/local/cuda-11.2/lib:/pkg/slurm/21.08.5/lib\n",
      "2023-09-14 16:01:34.103473: W tensorflow/compiler/xla/stream_executor/platform/default/dso_loader.cc:64] Could not load dynamic library 'libnvinfer_plugin.so.7'; dlerror: libnvinfer_plugin.so.7: cannot open shared object file: No such file or directory; LD_LIBRARY_PATH: /usr/lib64/nvidia:/usr/local/cuda-11.2/lib64:/usr/lib/nvidia:/usr/local/cuda-11.2/lib:/pkg/slurm/21.08.5/lib\n",
      "2023-09-14 16:01:34.103489: W tensorflow/compiler/tf2tensorrt/utils/py_utils.cc:38] TF-TRT Warning: Cannot dlopen some TensorRT libraries. If you would like to use Nvidia GPU with TensorRT, please make sure the missing libraries mentioned above are installed properly.\n"
     ]
    }
   ],
   "source": [
    "import numpy as np \n",
    "import pandas as pd\n",
    "from sentence_transformers import SentenceTransformer, util"
   ]
  },
  {
   "cell_type": "code",
   "execution_count": 2,
   "id": "a1cc962c",
   "metadata": {},
   "outputs": [],
   "source": [
    "pd.set_option('display.max_colwidth', None)\n",
    "pd.set_option('display.max_rows', None)"
   ]
  },
  {
   "cell_type": "code",
   "execution_count": 17,
   "id": "2fba7ec1",
   "metadata": {},
   "outputs": [],
   "source": [
    "# can replace with other prompts/occupations\n",
    "pmpt = 'A photo of the face of a singer'\n",
    "\n",
    "# example captions, combined with prompts for a few other professions (to use as a comparison)\n",
    "# can replace with file(s) containing training captions\n",
    "texts = ['A silhouette of a singer picture image.',\n",
    "    'Singer with microphone Stock Photo',\n",
    "    'colour photograph of singer on stage',\n",
    "    'Close-up picture of singer sitting toward a microphone',\n",
    "    'Portrait of a singer recording a track — Stock Photo',\n",
    "    'Carrie Underwood, Country Singer',\n",
    "    'Rock Singer Patti Smith In Concert Acrylic Print by George Rose',\n",
    "    'bollywood singer wearing sunglasses',\n",
    "    'artist male guitarist guitar acoustic playing sitting singing song singer performance performer musician concert',\n",
    "    'The Wonder Singer',\n",
    "    'Image of female singer',\n",
    "    'Singer recording a song in studio',\n",
    "    'Singer Sewing Machine Head From 1879',\n",
    "    'Wedding Singer and Musician - Guitar and/or Vocals',\n",
    "    'Singer and actor Frank Sinatra poses for a portrait to promote his NBC Radio show circa 1946 in New York City /Getty Images',\n",
    "    'Full length portrait of a male singer performing a song',\n",
    "    'A photo of the face of a doctor',\n",
    "    'A photo of the face of a musician',\n",
    "    'A photo of the face of an assistant',\n",
    "    'A photo of the face of an engineer',\n",
    "    'A photo of the face of a politician']"
   ]
  },
  {
   "cell_type": "code",
   "execution_count": 12,
   "id": "8ff59ad2",
   "metadata": {},
   "outputs": [],
   "source": [
    "sbert_model = SentenceTransformer('all-MiniLM-L6-v2')"
   ]
  },
  {
   "cell_type": "code",
   "execution_count": 18,
   "id": "bc84da87",
   "metadata": {},
   "outputs": [
    {
     "name": "stdout",
     "output_type": "stream",
     "text": [
      "A silhouette of a singer picture image.\n",
      "score: 0.850815\n",
      "**************\n",
      "A photo of the face of a musician\n",
      "score: 0.8463416\n",
      "**************\n",
      "Singer with microphone Stock Photo\n",
      "score: 0.7935266\n",
      "**************\n",
      "Portrait of a singer recording a track — Stock Photo\n",
      "score: 0.7829431\n",
      "**************\n",
      "Image of female singer\n",
      "score: 0.7622549\n",
      "**************\n",
      "Close-up picture of singer sitting toward a microphone\n",
      "score: 0.7597242\n",
      "**************\n",
      "Full length portrait of a male singer performing a song\n",
      "score: 0.72513187\n",
      "**************\n",
      "colour photograph of singer on stage\n",
      "score: 0.7205446\n",
      "**************\n",
      "A photo of the face of a politician\n",
      "score: 0.6968361\n",
      "**************\n",
      "A photo of the face of a doctor\n",
      "score: 0.61280626\n",
      "**************\n",
      "A photo of the face of an assistant\n",
      "score: 0.5931772\n",
      "**************\n",
      "A photo of the face of an engineer\n",
      "score: 0.5772126\n",
      "**************\n",
      "Singer recording a song in studio\n",
      "score: 0.574843\n",
      "**************\n",
      "Rock Singer Patti Smith In Concert Acrylic Print by George Rose\n",
      "score: 0.49014172\n",
      "**************\n",
      "The Wonder Singer\n",
      "score: 0.49009085\n",
      "**************\n",
      "bollywood singer wearing sunglasses\n",
      "score: 0.48990983\n",
      "**************\n",
      "Singer and actor Frank Sinatra poses for a portrait to promote his NBC Radio show circa 1946 in New York City /Getty Images\n",
      "score: 0.47407287\n",
      "**************\n",
      "Singer Sewing Machine Head From 1879\n",
      "score: 0.47074318\n",
      "**************\n",
      "Carrie Underwood, Country Singer\n",
      "score: 0.47073612\n",
      "**************\n",
      "Wedding Singer and Musician - Guitar and/or Vocals\n",
      "score: 0.45954573\n",
      "**************\n",
      "artist male guitarist guitar acoustic playing sitting singing song singer performance performer musician concert\n",
      "score: 0.3841314\n",
      "**************\n"
     ]
    }
   ],
   "source": [
    "embeddings1 = sbert_model.encode(texts, convert_to_tensor=True) # encode captions\n",
    "embeddings2 = sbert_model.encode([pmpt], convert_to_tensor=True) # encode prompts\n",
    "\n",
    "# compute cosine similarity between prompts and captions\n",
    "cosine_scores = util.cos_sim(embeddings1, embeddings2).detach().cpu().numpy()\n",
    "\n",
    "# sort according to cosine sim. values (descending) and get corresponding indices\n",
    "indices = cosine_scores[:,0].argsort()[::-1]\n",
    "\n",
    "ordered_texts = [texts[i] for i in indices] \n",
    "\n",
    "for i in indices:\n",
    "    print(texts[i])\n",
    "    print('score:', cosine_scores[i,0])\n",
    "    print('**************')"
   ]
  },
  {
   "cell_type": "markdown",
   "id": "fde72831",
   "metadata": {},
   "source": [
    "## Observations\n",
    "+ Structure/phrasing seems to be very important for similarity. For example, texts that follow the structure \"A photo of the face of a/an [OCCUPATION]\" (where the occupation is not singer) have higher similarity scores than several texts that pertain to the occupation singer (e.g. \"Singer recording a song in studio\")."
   ]
  }
 ],
 "metadata": {
  "kernelspec": {
   "display_name": "Python 3 (ipykernel)",
   "language": "python",
   "name": "python3"
  },
  "language_info": {
   "codemirror_mode": {
    "name": "ipython",
    "version": 3
   },
   "file_extension": ".py",
   "mimetype": "text/x-python",
   "name": "python",
   "nbconvert_exporter": "python",
   "pygments_lexer": "ipython3",
   "version": "3.7.13"
  }
 },
 "nbformat": 4,
 "nbformat_minor": 5
}
